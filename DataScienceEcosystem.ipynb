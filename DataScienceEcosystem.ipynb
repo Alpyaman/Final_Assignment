{
 "cells": [
  {
   "cell_type": "markdown",
   "id": "bf3b6451-0ef4-4735-89d2-f254dd0c1b82",
   "metadata": {},
   "source": [
    "# Data Science Tools and Ecosystem"
   ]
  },
  {
   "cell_type": "markdown",
   "id": "e0197152-78b8-4fb9-85b9-770a28636337",
   "metadata": {},
   "source": [
    "In this notebook, Data Science Tools and Ecosystem are summarized."
   ]
  },
  {
   "cell_type": "markdown",
   "id": "76f8739d-75f0-4cf3-b5de-839b186145c1",
   "metadata": {},
   "source": [
    "Some of the popular languages that Data Scientists use are:\n",
    "\n",
    "1. Python  \n",
    "2. R  \n",
    "3. SQL  \n"
   ]
  },
  {
   "cell_type": "markdown",
   "id": "8db6b5df-07d7-47cb-8baf-3e32e47edeae",
   "metadata": {},
   "source": [
    "Some of the commonly used libraries used by Data Scientists include:\n",
    "\n",
    "1. Pandas  \n",
    "2. NumPy  \n",
    "3. Matplotlib  \n"
   ]
  },
  {
   "cell_type": "markdown",
   "id": "76b9cc4f-22b9-4baa-8450-95ae0e0c8b2b",
   "metadata": {},
   "source": [
    "| Data Science Tools   |\n",
    "|----------------------|\n",
    "| Jupyter Notebook     |\n",
    "| RStudio              |\n",
    "| VS Code (Python)     |"
   ]
  },
  {
   "cell_type": "markdown",
   "id": "eb62bff4-814a-4dcb-bca3-24f12f17092e",
   "metadata": {},
   "source": [
    "### Below are a few examples of evaluating arithmetic expressions in Python.\n",
    "\n",
    "| Arithmetic Expression | Result |\n",
    "|-----------------------|--------|\n",
    "| `2 + 3`               | 5      |\n",
    "| `5 * 10`              | 50     |\n",
    "| `10 / 2`              | 5.0    |\n",
    "| `2 ** 4`              | 16     |\n",
    "| `15 % 4`              | 3      |"
   ]
  },
  {
   "cell_type": "code",
   "execution_count": 2,
   "id": "050ee8b1-6fa8-4232-aa3b-546fbd071689",
   "metadata": {},
   "outputs": [
    {
     "data": {
      "text/plain": [
       "17"
      ]
     },
     "execution_count": 2,
     "metadata": {},
     "output_type": "execute_result"
    }
   ],
   "source": [
    "# This is a simple arithmetic expression to multiply then add integers\n",
    "(3 * 4) + 5"
   ]
  },
  {
   "cell_type": "code",
   "execution_count": 3,
   "id": "3ed4613a-b1aa-43b2-bd16-a11dbaedcde5",
   "metadata": {},
   "outputs": [
    {
     "data": {
      "text/plain": [
       "3.3333333333333335"
      ]
     },
     "execution_count": 3,
     "metadata": {},
     "output_type": "execute_result"
    }
   ],
   "source": [
    "# This will convert 200 minutes to hours by dividing by 60\n",
    "200 / 60"
   ]
  },
  {
   "cell_type": "code",
   "execution_count": null,
   "id": "24aac0a8-c988-43aa-b569-5b53abf7d5b5",
   "metadata": {},
   "outputs": [],
   "source": []
  }
 ],
 "metadata": {
  "kernelspec": {
   "display_name": "Python 3 (ipykernel)",
   "language": "python",
   "name": "python3"
  },
  "language_info": {
   "codemirror_mode": {
    "name": "ipython",
    "version": 3
   },
   "file_extension": ".py",
   "mimetype": "text/x-python",
   "name": "python",
   "nbconvert_exporter": "python",
   "pygments_lexer": "ipython3",
   "version": "3.12.7"
  }
 },
 "nbformat": 4,
 "nbformat_minor": 5
}
